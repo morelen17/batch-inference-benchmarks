{
 "cells": [
  {
   "cell_type": "code",
   "execution_count": null,
   "id": "2d8e94e9-3a8d-4838-bc63-665c6fdc0984",
   "metadata": {},
   "outputs": [],
   "source": [
    "import time\n",
    "from typing import NamedTuple, Optional\n",
    "\n",
    "import sagemaker\n",
    "from sagemaker import get_execution_role\n",
    "from sagemaker.processing import FrameworkProcessor, ProcessingInput\n",
    "from sagemaker.pytorch import PyTorchModel, PyTorch"
   ]
  },
  {
   "cell_type": "code",
   "execution_count": null,
   "id": "fd325587-6d8d-4a14-a42b-b73f00ea3943",
   "metadata": {},
   "outputs": [],
   "source": [
    "import torch\n",
    "import torchvision\n",
    "from torchvision.models import resnet50, ResNet50_Weights"
   ]
  },
  {
   "cell_type": "code",
   "execution_count": null,
   "id": "ec090158-4a46-4c9c-9852-0a523968d54b",
   "metadata": {},
   "outputs": [],
   "source": [
    "torch.__version__, torchvision.__version__"
   ]
  },
  {
   "cell_type": "markdown",
   "id": "17cfdaf2",
   "metadata": {},
   "source": [
    "# Upload pre-trained model to S3 (Need to run just once)"
   ]
  },
  {
   "cell_type": "code",
   "execution_count": null,
   "id": "c0b996da",
   "metadata": {},
   "outputs": [],
   "source": [
    "bucket_name = <your-bucket-name>"
   ]
  },
  {
   "cell_type": "code",
   "execution_count": null,
   "id": "ba44730b-2f7a-4908-b501-7a506188b1c1",
   "metadata": {},
   "outputs": [],
   "source": [
    "# Load pretrained ResNet model and save locally\n",
    "model = resnet50(weights=ResNet50_Weights.DEFAULT)\n",
    "local_path = \"./model.ckpt\"\n",
    "torch.save(model.state_dict(), local_path)"
   ]
  },
  {
   "cell_type": "code",
   "execution_count": null,
   "id": "e0e23b7d-6cd5-4af7-9ac1-9c68ab59eb3b",
   "metadata": {},
   "outputs": [],
   "source": [
    "# Tar the model checkpoint and upload to S3 bucket\n",
    "\n",
    "!tar -czvf model.tar.gz ./model.ckpt\n",
    "# !aws s3 mb s3://$bucket_name\n",
    "!aws s3 cp ./model.tar.gz s3://$bucket_name/model/\n",
    "!aws s3 ls s3://$bucket_name"
   ]
  },
  {
   "cell_type": "markdown",
   "id": "27c62fab-a2b2-43c4-b502-3095b2a825b5",
   "metadata": {},
   "source": [
    "# Copy datasets to a personal S3 bucket"
   ]
  },
  {
   "cell_type": "code",
   "execution_count": null,
   "id": "80777c11-3388-4d6f-a419-ab358f2147cb",
   "metadata": {},
   "outputs": [],
   "source": [
    "%%time\n",
    "\n",
    "# all image data\n",
    "\n",
    "!aws s3 cp \\\n",
    "    s3://air-example-data-2/10G-image-data-synthetic-raw/ \\\n",
    "    s3://$bucket_name/data/10G-image-data-synthetic-raw/ \\\n",
    "    --recursive \\\n",
    "    --quiet"
   ]
  },
  {
   "cell_type": "code",
   "execution_count": null,
   "id": "6c613c43-5486-4331-bfce-c27d60798240",
   "metadata": {},
   "outputs": [],
   "source": [
    "%%time\n",
    "\n",
    "# 120 parts parquet data\n",
    "\n",
    "!aws s3 cp \\\n",
    "    s3://air-example-data-2/10G-image-data-synthetic-raw-parquet-120-partition/ \\\n",
    "    s3://$bucket_name/data/10G-image-data-synthetic-raw-parquet-120-partition/ \\\n",
    "    --recursive \\\n",
    "    --quiet"
   ]
  },
  {
   "cell_type": "code",
   "execution_count": null,
   "id": "03939dd8-11ab-4a4a-9051-6a4ecbe72844",
   "metadata": {},
   "outputs": [],
   "source": [
    "%%time\n",
    "\n",
    "# default parquet data\n",
    "\n",
    "!aws s3 cp \\\n",
    "    s3://air-example-data-2/10G-image-data-synthetic-raw-parquet/ \\\n",
    "    s3://$bucket_name/data/10G-image-data-synthetic-raw-parquet/ \\\n",
    "    --recursive \\\n",
    "    --quiet"
   ]
  },
  {
   "cell_type": "markdown",
   "id": "45890c51",
   "metadata": {},
   "source": [
    "# Batch Inference:"
   ]
  },
  {
   "cell_type": "code",
   "execution_count": null,
   "id": "df487768-ad57-4788-bcc1-863f56be5cbb",
   "metadata": {},
   "outputs": [],
   "source": [
    "# Must be a tar.gz file\n",
    "model_artifact_s3_location = f\"s3://{bucket_name}/model/model.tar.gz\""
   ]
  },
  {
   "cell_type": "code",
   "execution_count": null,
   "id": "b858adb6-4b8f-4a5d-97c1-c68488997fbf",
   "metadata": {},
   "outputs": [],
   "source": [
    "jobs_location = f\"s3://{bucket_name}/jobs\""
   ]
  },
  {
   "cell_type": "code",
   "execution_count": null,
   "id": "d5bf059e-c25c-410e-a1f8-aaf9acee504d",
   "metadata": {},
   "outputs": [],
   "source": [
    "images_location = f\"s3://{bucket_name}/data/10G-image-data-synthetic-raw/\"\n",
    "parquet_location = f\"s3://{bucket_name}/data/10G-image-data-synthetic-raw-parquet-120-partition/\"\n",
    "parquet_default_location = f\"s3://{bucket_name}/data/10G-image-data-synthetic-raw-parquet/\""
   ]
  },
  {
   "cell_type": "code",
   "execution_count": null,
   "id": "3b7e2ce8",
   "metadata": {},
   "outputs": [],
   "source": [
    "dataset_size = 16_232  # number of images in 10GB dataset"
   ]
  },
  {
   "cell_type": "code",
   "execution_count": null,
   "id": "afbcabfe",
   "metadata": {},
   "outputs": [],
   "source": [
    "ml_g4dn_xlarge_instance_price = 0.736\n",
    "ml_g4dn_12xlarge_instance_price = 4.89"
   ]
  },
  {
   "cell_type": "code",
   "execution_count": null,
   "id": "0f036263-31b5-4f8d-beee-6ac013a303c5",
   "metadata": {},
   "outputs": [],
   "source": [
    "sagemaker_session = sagemaker.Session(default_bucket=bucket_name)\n",
    "role = get_execution_role()"
   ]
  },
  {
   "cell_type": "code",
   "execution_count": null,
   "id": "7a86e915-e75a-438f-9059-d49378a68da7",
   "metadata": {},
   "outputs": [],
   "source": [
    "def get_transform_time(job_name: str) -> float:\n",
    "    response = sagemaker_session.sagemaker_client.describe_transform_job(TransformJobName=job_name)\n",
    "    start_time = response[\"TransformStartTime\"]\n",
    "    end_time = response[\"TransformEndTime\"]\n",
    "    return (end_time - start_time).total_seconds()"
   ]
  },
  {
   "cell_type": "code",
   "execution_count": null,
   "id": "368b37a4-fd9a-4b7d-9581-e00e1c5ec3c7",
   "metadata": {},
   "outputs": [],
   "source": [
    "def get_processing_job_time(job_name: str) -> float:\n",
    "    response = sagemaker_session.sagemaker_client.describe_processing_job(ProcessingJobName=job_name)\n",
    "    start_time = response[\"ProcessingStartTime\"]\n",
    "    end_time = response[\"ProcessingEndTime\"]\n",
    "    return (end_time - start_time).total_seconds()"
   ]
  },
  {
   "cell_type": "code",
   "execution_count": null,
   "id": "6e4bd108-219a-4977-a67e-b289f30b2a80",
   "metadata": {},
   "outputs": [],
   "source": [
    "class ExperimentElapsedTime(NamedTuple):\n",
    "    total_time: float\n",
    "    transform_time: float"
   ]
  },
  {
   "cell_type": "code",
   "execution_count": null,
   "id": "a12af938-4f87-4886-929f-1a3ae12a7a56",
   "metadata": {},
   "outputs": [],
   "source": [
    "def run_sm_bt_experiment(\n",
    "    job_name: str,\n",
    "    model_kwargs: Optional[dict] = None,\n",
    "    transformer_kwargs: Optional[dict] = None,\n",
    "    transform_run_kwargs: Optional[dict] = None,\n",
    ") -> ExperimentElapsedTime:\n",
    "    global model_artifact_s3_location, jobs_location, sagemaker_session\n",
    "    \n",
    "    default_model_kwargs = dict(\n",
    "        model_data=model_artifact_s3_location,\n",
    "        role=role,\n",
    "        framework_version=\"2.0\",\n",
    "        py_version=\"py310\",\n",
    "        source_dir=\"./sagemaker/code\",\n",
    "        entry_point=\"predict.py\",\n",
    "        code_location=jobs_location,\n",
    "        sagemaker_session=sagemaker_session,\n",
    "        env={\n",
    "            \"TS_MAX_REQUEST_SIZE\": \"100000000\",\n",
    "            \"MMS_MAX_REQUEST_SIZE\": \"100000000\",\n",
    "        },\n",
    "    )\n",
    "    if model_kwargs is not None:\n",
    "        default_model_kwargs.update(model_kwargs)\n",
    "    \n",
    "    default_transformer_kwargs = dict(\n",
    "        instance_count=1,\n",
    "        instance_type=\"ml.g4dn.xlarge\",\n",
    "        output_path=jobs_location,\n",
    "        max_payload=100,  # MaxConcurrentTransforms * MaxPayloadInMB <= 100 MB\n",
    "        accept=\"application/json\",\n",
    "    )\n",
    "    if transformer_kwargs is not None:\n",
    "        default_transformer_kwargs.update(transformer_kwargs)\n",
    "    \n",
    "    default_transform_run_kwargs = dict(\n",
    "        data_type=\"S3Prefix\",\n",
    "        job_name=job_name,\n",
    "        wait=True,\n",
    "        logs=False,\n",
    "    )\n",
    "    if transform_run_kwargs is not None:\n",
    "        default_transform_run_kwargs.update(transform_run_kwargs)\n",
    "    \n",
    "    model = PyTorchModel(**default_model_kwargs)\n",
    "    transformer = model.transformer(**default_transformer_kwargs)\n",
    "    \n",
    "    start_time = time.time()\n",
    "    transformer.transform(**default_transform_run_kwargs)\n",
    "    end_time = time.time()\n",
    "    \n",
    "    total_time = end_time - start_time\n",
    "    transform_time = get_transform_time(job_name)\n",
    "    \n",
    "    return ExperimentElapsedTime(total_time, transform_time)"
   ]
  },
  {
   "cell_type": "code",
   "execution_count": null,
   "id": "3da54ad5-c9d9-4e6a-b9f2-5650c54cb97f",
   "metadata": {},
   "outputs": [],
   "source": [
    "def run_ray_inference_experiment(\n",
    "    job_name: str,\n",
    "    processor_kwargs: Optional[dict] = None,\n",
    "    run_kwargs: Optional[dict] = None,\n",
    ") -> ExperimentElapsedTime:\n",
    "    global jobs_location, sagemaker_session\n",
    "    \n",
    "    default_processor_kwargs = dict(\n",
    "        estimator_cls=PyTorch,\n",
    "        framework_version=\"2.0\",\n",
    "        py_version=\"py310\",\n",
    "        role=role,\n",
    "        instance_count=1,\n",
    "        instance_type=\"ml.g4dn.12xlarge\",\n",
    "        sagemaker_session=sagemaker_session,\n",
    "        code_location=jobs_location,\n",
    "        env={\n",
    "            \"SAGEMAKER_CONTAINER_LOG_LEVEL\": \"DEBUG\",\n",
    "        },\n",
    "    )\n",
    "    if processor_kwargs is not None:\n",
    "        default_processor_kwargs.update(processor_kwargs)\n",
    "        \n",
    "    default_run_kwargs = dict(\n",
    "        job_name=job_name,\n",
    "        code=\"inference.py\",\n",
    "        source_dir=\"./ray/code\",\n",
    "        wait=True,\n",
    "        logs=False,\n",
    "    )\n",
    "    if run_kwargs is not None:\n",
    "        default_run_kwargs.update(run_kwargs)\n",
    "    \n",
    "    processor = FrameworkProcessor(**default_processor_kwargs)\n",
    "    start_time = time.time()\n",
    "    processor.run(**default_run_kwargs)\n",
    "    end_time = time.time()\n",
    "    \n",
    "    total_time = end_time - start_time\n",
    "    processing_time = get_processing_job_time(job_name)\n",
    "    \n",
    "    return ExperimentElapsedTime(total_time, processing_time)"
   ]
  },
  {
   "cell_type": "code",
   "execution_count": null,
   "id": "50f2c375-4e72-4b8e-ae07-9f2115bcd352",
   "metadata": {},
   "outputs": [],
   "source": [
    "def estimate_job_pricing(job_time: int, price_per_instance: float, number_of_instances: int) -> float:\n",
    "    return (job_time / 3600) * price_per_instance * number_of_instances"
   ]
  },
  {
   "cell_type": "markdown",
   "id": "44e96015-aa7a-451a-b0c0-bb58baea3c06",
   "metadata": {},
   "source": [
    "---"
   ]
  },
  {
   "cell_type": "markdown",
   "id": "b0274afd-f48f-4c98-976f-61f3e2728cfa",
   "metadata": {},
   "source": [
    "# Sagemaker Batch Transform experiments:"
   ]
  },
  {
   "cell_type": "markdown",
   "id": "9dcbd979-272a-46b1-8c09-9dd296908092",
   "metadata": {},
   "source": [
    "## a. Default run:"
   ]
  },
  {
   "cell_type": "code",
   "execution_count": null,
   "id": "15b61f3f-2c6e-42a9-baad-db4f91950651",
   "metadata": {},
   "outputs": [],
   "source": [
    "%%time\n",
    "\n",
    "experiment_times = run_sm_bt_experiment(\n",
    "    job_name=\"sm-bt-images-a\",\n",
    "    transformer_kwargs={\n",
    "        \"instance_count\": 4,\n",
    "    },\n",
    "    transform_run_kwargs={\n",
    "        \"data\": images_location,\n",
    "        \"content_type\": \"application/x-image\",\n",
    "    },\n",
    ")"
   ]
  },
  {
   "cell_type": "code",
   "execution_count": null,
   "id": "226a7455-4f44-4188-8935-63e0714f278c",
   "metadata": {},
   "outputs": [],
   "source": [
    "experiment_times"
   ]
  },
  {
   "cell_type": "code",
   "execution_count": null,
   "id": "ef2b8ca9-8a40-48b1-832d-a09f0b7f9542",
   "metadata": {},
   "outputs": [],
   "source": [
    "dataset_size / experiment_times.total_time, dataset_size / experiment_times.transform_time"
   ]
  },
  {
   "cell_type": "code",
   "execution_count": null,
   "id": "aa83d4f3-e83f-4404-bbd9-2ce2bd8039be",
   "metadata": {},
   "outputs": [],
   "source": [
    "estimate_job_pricing(experiment_times.transform_time, ml_g4dn_xlarge_instance_price, 4)"
   ]
  },
  {
   "cell_type": "markdown",
   "id": "0f9fddee-c366-4e58-af10-c11e9d630848",
   "metadata": {},
   "source": [
    "## b."
   ]
  },
  {
   "cell_type": "code",
   "execution_count": null,
   "id": "43d8f676-0ad1-4ff4-9d6c-cba515380ad0",
   "metadata": {},
   "outputs": [],
   "source": [
    "experiment_times = run_sm_bt_experiment(\n",
    "    job_name=\"sm-bt-images-b\",\n",
    "    transformer_kwargs={\n",
    "        \"instance_count\": 4,\n",
    "        \"max_concurrent_transforms\": 2,\n",
    "        \"max_payload\": 50,\n",
    "    },\n",
    "    transform_run_kwargs={\n",
    "        \"data\": images_location,\n",
    "        \"content_type\": \"application/x-image\",\n",
    "    },\n",
    ")"
   ]
  },
  {
   "cell_type": "code",
   "execution_count": null,
   "id": "52e50872-d899-4217-8c73-212bbad1ca48",
   "metadata": {},
   "outputs": [],
   "source": [
    "experiment_times"
   ]
  },
  {
   "cell_type": "code",
   "execution_count": null,
   "id": "148e845a-434f-41cf-ad11-1dc823d6c417",
   "metadata": {},
   "outputs": [],
   "source": [
    "dataset_size / experiment_times.total_time, dataset_size / experiment_times.transform_time"
   ]
  },
  {
   "cell_type": "code",
   "execution_count": null,
   "id": "ba1a1fe6-03c4-4caf-a631-ac32abb1d587",
   "metadata": {},
   "outputs": [],
   "source": [
    "estimate_job_pricing(experiment_times.transform_time, ml_g4dn_xlarge_instance_price, 4)"
   ]
  },
  {
   "cell_type": "markdown",
   "id": "7ddf06af-327e-444a-b6a9-1c06a40e0ec9",
   "metadata": {},
   "source": [
    "## c."
   ]
  },
  {
   "cell_type": "code",
   "execution_count": null,
   "id": "de777a29-3ad7-43d1-87dd-3a9291424d02",
   "metadata": {},
   "outputs": [],
   "source": [
    "experiment_times = run_sm_bt_experiment(\n",
    "    job_name=\"sm-bt-images-c\",\n",
    "    transformer_kwargs={\n",
    "        \"instance_count\": 4,\n",
    "        \"max_concurrent_transforms\": 8,\n",
    "        \"max_payload\": 10,\n",
    "    },\n",
    "    transform_run_kwargs={\n",
    "        \"data\": images_location,\n",
    "        \"content_type\": \"application/x-image\",\n",
    "    },\n",
    ")"
   ]
  },
  {
   "cell_type": "code",
   "execution_count": null,
   "id": "535e3533-4ac6-491a-957a-3bd84a288699",
   "metadata": {},
   "outputs": [],
   "source": [
    "experiment_times"
   ]
  },
  {
   "cell_type": "code",
   "execution_count": null,
   "id": "5fe92277-42e0-4ed4-9021-eb61d536f607",
   "metadata": {},
   "outputs": [],
   "source": [
    "dataset_size / experiment_times.total_time, dataset_size / experiment_times.transform_time"
   ]
  },
  {
   "cell_type": "code",
   "execution_count": null,
   "id": "89dd0f5f-6767-4118-a762-26beda3f0027",
   "metadata": {},
   "outputs": [],
   "source": [
    "estimate_job_pricing(experiment_times.transform_time, ml_g4dn_xlarge_instance_price, 4)"
   ]
  },
  {
   "cell_type": "markdown",
   "id": "afd8c32d-aad7-4ad8-a705-d3eb54267acd",
   "metadata": {},
   "source": [
    "## d."
   ]
  },
  {
   "cell_type": "code",
   "execution_count": null,
   "id": "e3e2cf2c-ea26-48e1-9773-4c9ba1992806",
   "metadata": {},
   "outputs": [],
   "source": [
    "experiment_times = run_sm_bt_experiment(\n",
    "    job_name=\"sm-bt-images-d\",\n",
    "    transformer_kwargs={\n",
    "        \"instance_count\": 4,\n",
    "    },\n",
    "    transform_run_kwargs={\n",
    "        \"data\": parquet_location,\n",
    "        \"content_type\": \"application/x-parquet\",\n",
    "    },\n",
    ")"
   ]
  },
  {
   "cell_type": "code",
   "execution_count": null,
   "id": "1d50e53e-ac02-4797-832f-dbf4a95fe5ee",
   "metadata": {},
   "outputs": [],
   "source": [
    "experiment_times"
   ]
  },
  {
   "cell_type": "code",
   "execution_count": null,
   "id": "fffa0684-237e-452b-96c9-6891d12c7b21",
   "metadata": {},
   "outputs": [],
   "source": [
    "dataset_size / experiment_times.total_time, dataset_size / experiment_times.transform_time"
   ]
  },
  {
   "cell_type": "code",
   "execution_count": null,
   "id": "03aa738f-63e8-44f5-a1e0-3cb503dbf387",
   "metadata": {},
   "outputs": [],
   "source": [
    "estimate_job_pricing(experiment_times.transform_time, ml_g4dn_xlarge_instance_price, 4)"
   ]
  },
  {
   "cell_type": "markdown",
   "id": "60cda5a6-85fc-4db2-b1ca-ea121411bd1f",
   "metadata": {},
   "source": [
    "## e."
   ]
  },
  {
   "cell_type": "code",
   "execution_count": null,
   "id": "35cb4d09-1612-45ea-a05b-4ebf7bd3123c",
   "metadata": {},
   "outputs": [],
   "source": [
    "experiment_times = run_sm_bt_experiment(\n",
    "    job_name=\"sm-bt-images-e\",\n",
    "    transformer_kwargs={\n",
    "        \"instance_count\": 4,\n",
    "        \"max_concurrent_transforms\": 2,\n",
    "        \"max_payload\": 50,\n",
    "    },\n",
    "    transform_run_kwargs={\n",
    "        \"data\": parquet_location,\n",
    "        \"content_type\": \"application/x-parquet\",\n",
    "    },\n",
    ")"
   ]
  },
  {
   "cell_type": "code",
   "execution_count": null,
   "id": "9f2be78d-b87d-41de-acc7-2503839b2beb",
   "metadata": {},
   "outputs": [],
   "source": [
    "experiment_times"
   ]
  },
  {
   "cell_type": "code",
   "execution_count": null,
   "id": "b3be310b-7ac5-47a3-b02c-b9013625095e",
   "metadata": {},
   "outputs": [],
   "source": [
    "dataset_size / experiment_times.total_time, dataset_size / experiment_times.transform_time"
   ]
  },
  {
   "cell_type": "code",
   "execution_count": null,
   "id": "c174fc24-182a-4a16-8c7d-e87191a46a2f",
   "metadata": {},
   "outputs": [],
   "source": [
    "estimate_job_pricing(experiment_times.transform_time, ml_g4dn_xlarge_instance_price, 4)"
   ]
  },
  {
   "cell_type": "markdown",
   "id": "62af311a-9cf0-440b-9c5f-b1f738c979a4",
   "metadata": {},
   "source": [
    "---"
   ]
  },
  {
   "cell_type": "markdown",
   "id": "5065f7e2-9466-4866-8d90-c9a86c9c58e9",
   "metadata": {},
   "source": [
    "# Ray Inference experiments:"
   ]
  },
  {
   "cell_type": "markdown",
   "id": "f2683e4c-6f5b-48b4-aa73-ac4b5a1abbbe",
   "metadata": {},
   "source": [
    "## a. Default run"
   ]
  },
  {
   "cell_type": "code",
   "execution_count": null,
   "id": "f62b051f-249a-4031-ab90-3e356f4ebeb9",
   "metadata": {},
   "outputs": [],
   "source": [
    "%%time\n",
    "\n",
    "experiment_times = run_ray_inference_experiment(\n",
    "    job_name=\"ray-inference-run-a\",\n",
    "    processor_kwargs={\n",
    "        \"env\": {\"SAGEMAKER_CONTAINER_LOG_LEVEL\": \"INFO\"},\n",
    "    },\n",
    "    run_kwargs={\n",
    "        \"arguments\": [\n",
    "            \"run_inference_on_parquets\",\n",
    "            \"--data_path\", parquet_default_location,\n",
    "            \"--data_read_parallelism\", \"-1\",\n",
    "            \"--preprocessing_batch_size\", \"4096\",\n",
    "            \"--inference_batch_size\", \"1000\",\n",
    "            \"--inference_concurrency\", \"2\",\n",
    "        ],\n",
    "    }\n",
    ")"
   ]
  },
  {
   "cell_type": "code",
   "execution_count": null,
   "id": "841fa40e-3cf9-445f-b81a-d413d8e9228a",
   "metadata": {},
   "outputs": [],
   "source": [
    "experiment_times"
   ]
  },
  {
   "cell_type": "code",
   "execution_count": null,
   "id": "3745b89e-1a36-46b6-be66-0c6b0fe1f309",
   "metadata": {},
   "outputs": [],
   "source": [
    "dataset_size / experiment_times.total_time, dataset_size / experiment_times.transform_time"
   ]
  },
  {
   "cell_type": "code",
   "execution_count": null,
   "id": "14a13805-b166-4d9d-af8e-bdfb26fa912e",
   "metadata": {},
   "outputs": [],
   "source": [
    "total_script_time = 160.53647327423096\n",
    "total_script_no_metadata_time = 145.280113697052\n",
    "\n",
    "dataset_size / total_script_time, dataset_size / total_script_no_metadata_time"
   ]
  },
  {
   "cell_type": "code",
   "execution_count": null,
   "id": "1554b2ec-e850-4b11-b50f-d0aa3cc96bd3",
   "metadata": {},
   "outputs": [],
   "source": [
    "estimate_job_pricing(experiment_times.transform_time, ml_g4dn_12xlarge_instance_price, 1)"
   ]
  },
  {
   "cell_type": "markdown",
   "id": "629dbf07-f7b0-4329-a294-61e105c075ca",
   "metadata": {},
   "source": [
    "## b."
   ]
  },
  {
   "cell_type": "code",
   "execution_count": null,
   "id": "7e784c54-bf68-435c-8e83-60a533d465c9",
   "metadata": {},
   "outputs": [],
   "source": [
    "%%time\n",
    "\n",
    "experiment_times = run_ray_inference_experiment(\n",
    "    job_name=\"ray-inference-run-b\",\n",
    "    processor_kwargs={\n",
    "        \"env\": {\"SAGEMAKER_CONTAINER_LOG_LEVEL\": \"INFO\"},\n",
    "    },\n",
    "    run_kwargs={\n",
    "        \"arguments\": [\n",
    "            \"run_inference_on_parquets\",\n",
    "            \"--data_path\", parquet_location,\n",
    "            \"--data_read_parallelism\", \"-1\",\n",
    "            \"--preprocessing_batch_size\", \"4096\",\n",
    "            \"--inference_batch_size\", \"1000\",\n",
    "            \"--inference_concurrency\", \"2\",\n",
    "        ],\n",
    "    }\n",
    ")"
   ]
  },
  {
   "cell_type": "code",
   "execution_count": null,
   "id": "f7371855-7c19-4e9b-bb70-cc21ad169f7f",
   "metadata": {},
   "outputs": [],
   "source": [
    "experiment_times"
   ]
  },
  {
   "cell_type": "code",
   "execution_count": null,
   "id": "919d9b77-bbfd-4611-a451-02f2ae2264aa",
   "metadata": {},
   "outputs": [],
   "source": [
    "dataset_size / experiment_times.total_time, dataset_size / experiment_times.transform_time"
   ]
  },
  {
   "cell_type": "code",
   "execution_count": null,
   "id": "6cd9bbd5-9f24-4649-a8e1-a0bc4bdd0ff1",
   "metadata": {},
   "outputs": [],
   "source": [
    "total_script_time = 170.1976945400238\n",
    "total_script_no_metadata_time = 151.15066051483154\n",
    "\n",
    "dataset_size / total_script_time, dataset_size / total_script_no_metadata_time"
   ]
  },
  {
   "cell_type": "code",
   "execution_count": null,
   "id": "60750e85-5ce9-492f-83ea-152f93920d68",
   "metadata": {},
   "outputs": [],
   "source": [
    "estimate_job_pricing(experiment_times.transform_time, ml_g4dn_12xlarge_instance_price, 1)"
   ]
  },
  {
   "cell_type": "markdown",
   "id": "352eefb4-3613-47c3-945b-d17904e21d02",
   "metadata": {},
   "source": [
    "## c."
   ]
  },
  {
   "cell_type": "code",
   "execution_count": null,
   "id": "d1e52415-31c2-4079-8360-f39249c5ea1b",
   "metadata": {},
   "outputs": [],
   "source": [
    "%%time\n",
    "\n",
    "experiment_times = run_ray_inference_experiment(\n",
    "    job_name=\"ray-inference-run-c-01\",\n",
    "    processor_kwargs={\n",
    "        \"env\": {\"SAGEMAKER_CONTAINER_LOG_LEVEL\": \"INFO\"},\n",
    "    },\n",
    "    run_kwargs={\n",
    "        \"arguments\": [\n",
    "            \"run_inference_on_parquets\",\n",
    "            \"--data_path\", parquet_default_location,\n",
    "            \"--data_read_parallelism\", \"-1\",\n",
    "            \"--preprocessing_batch_size\", \"135\",\n",
    "            \"--inference_batch_size\", \"135\",\n",
    "            \"--inference_concurrency\", \"2\",\n",
    "        ],\n",
    "    }\n",
    ")"
   ]
  },
  {
   "cell_type": "code",
   "execution_count": null,
   "id": "b564f720-886d-44a0-9419-c2c637d36a03",
   "metadata": {},
   "outputs": [],
   "source": [
    "experiment_times"
   ]
  },
  {
   "cell_type": "code",
   "execution_count": null,
   "id": "66fe8e2a-7031-4039-ac6a-fec18e7d73f3",
   "metadata": {},
   "outputs": [],
   "source": [
    "dataset_size / experiment_times.total_time, dataset_size / experiment_times.transform_time"
   ]
  },
  {
   "cell_type": "code",
   "execution_count": null,
   "id": "ad778fb6-4ed7-4325-866d-b13f3fbda0d7",
   "metadata": {},
   "outputs": [],
   "source": [
    "total_script_time = 184.49217987060547\n",
    "total_script_no_metadata_time = 168.5918595790863\n",
    "\n",
    "dataset_size / total_script_time, dataset_size / total_script_no_metadata_time"
   ]
  },
  {
   "cell_type": "code",
   "execution_count": null,
   "id": "60305c13-9864-48bc-b0c5-69ffc94c1a2b",
   "metadata": {},
   "outputs": [],
   "source": [
    "estimate_job_pricing(experiment_times.transform_time, ml_g4dn_12xlarge_instance_price, 1)"
   ]
  },
  {
   "cell_type": "markdown",
   "id": "928d6834-539b-4a09-b209-b9669b47eb0d",
   "metadata": {},
   "source": [
    "## d."
   ]
  },
  {
   "cell_type": "code",
   "execution_count": null,
   "id": "003c383b-1ac9-499b-8064-02b9d16f05d3",
   "metadata": {},
   "outputs": [],
   "source": [
    "%%time\n",
    "\n",
    "experiment_times = run_ray_inference_experiment(\n",
    "    job_name=\"ray-inference-run-d-04\",\n",
    "    processor_kwargs={\n",
    "        \"env\": {\"SAGEMAKER_CONTAINER_LOG_LEVEL\": \"INFO\"},\n",
    "    },\n",
    "    run_kwargs={\n",
    "        \"arguments\": [\n",
    "            \"run_inference_on_images\",\n",
    "            \"--data_path\", images_location,\n",
    "            \"--data_read_parallelism\", \"8\",\n",
    "            \"--preprocessing_batch_size\", \"1\",\n",
    "            \"--inference_batch_size\", \"1\",\n",
    "            \"--inference_concurrency\", \"2\",\n",
    "        ],\n",
    "    }\n",
    ")"
   ]
  },
  {
   "cell_type": "code",
   "execution_count": null,
   "id": "37b203f8-d319-44db-9043-789c478c1a0c",
   "metadata": {},
   "outputs": [],
   "source": [
    "experiment_times"
   ]
  },
  {
   "cell_type": "code",
   "execution_count": null,
   "id": "a9658f78-0524-49b3-b42d-e904dcce3297",
   "metadata": {},
   "outputs": [],
   "source": [
    "dataset_size / experiment_times.total_time, dataset_size / experiment_times.transform_time"
   ]
  },
  {
   "cell_type": "code",
   "execution_count": null,
   "id": "7f65fd3e-bfe0-4a75-ac99-741e2910ce1b",
   "metadata": {},
   "outputs": [],
   "source": [
    "total_script_time = 956.8057413101196\n",
    "total_script_no_metadata_time = 954.6421239376068\n",
    "\n",
    "dataset_size / total_script_time, dataset_size / total_script_no_metadata_time"
   ]
  },
  {
   "cell_type": "code",
   "execution_count": null,
   "id": "d00c22df-a505-4455-8b85-4ad885439519",
   "metadata": {},
   "outputs": [],
   "source": [
    "estimate_job_pricing(experiment_times.transform_time, ml_g4dn_12xlarge_instance_price, 1)"
   ]
  }
 ],
 "metadata": {
  "language_info": {
   "name": "python"
  }
 },
 "nbformat": 4,
 "nbformat_minor": 5
}
